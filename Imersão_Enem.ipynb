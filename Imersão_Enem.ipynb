{
  "nbformat": 4,
  "nbformat_minor": 0,
  "metadata": {
    "colab": {
      "name": "Imersão Enem.ipynb",
      "provenance": [],
      "authorship_tag": "ABX9TyNG/5U0ecO4WBdOwfHS8Huv",
      "include_colab_link": true
    },
    "kernelspec": {
      "name": "python3",
      "display_name": "Python 3"
    }
  },
  "cells": [
    {
      "cell_type": "markdown",
      "metadata": {
        "id": "view-in-github",
        "colab_type": "text"
      },
      "source": [
        "<a href=\"https://colab.research.google.com/github/rubensgamaliel/Enem/blob/main/Imers%C3%A3o_Enem.ipynb\" target=\"_parent\"><img src=\"https://colab.research.google.com/assets/colab-badge.svg\" alt=\"Open In Colab\"/></a>"
      ]
    },
    {
      "cell_type": "markdown",
      "metadata": {
        "id": "T6dsV4omB0mc"
      },
      "source": [
        "Nesse Colab foi realizada uma análise do Enem 2019 através de amostra cedida pela Alura na 2° imersão em dados"
      ]
    },
    {
      "cell_type": "markdown",
      "metadata": {
        "id": "TaNpzSePQzzx"
      },
      "source": [
        "## Início"
      ]
    },
    {
      "cell_type": "code",
      "metadata": {
        "id": "hNg2afNq64LU"
      },
      "source": [
        "import pandas as pd\n",
        "import seaborn as sns\n",
        "import matplotlib.pyplot as plt\n",
        "import operator\n"
      ],
      "execution_count": 2,
      "outputs": []
    },
    {
      "cell_type": "code",
      "metadata": {
        "id": "ZJa5d24Kesum",
        "outputId": "857ea87d-7f9e-450f-f0d2-ccf83ed7e887",
        "colab": {
          "base_uri": "https://localhost:8080/",
          "height": 244
        }
      },
      "source": [
        "fonte= \"https://github.com/alura-cursos/imersao-dados-2-2020/blob/master/MICRODADOS_ENEM_2019_SAMPLE_43278.csv?raw=true\"\n",
        "dados=pd.read_csv(fonte)\n",
        "dados.head()"
      ],
      "execution_count": 3,
      "outputs": [
        {
          "output_type": "execute_result",
          "data": {
            "text/html": [
              "<div>\n",
              "<style scoped>\n",
              "    .dataframe tbody tr th:only-of-type {\n",
              "        vertical-align: middle;\n",
              "    }\n",
              "\n",
              "    .dataframe tbody tr th {\n",
              "        vertical-align: top;\n",
              "    }\n",
              "\n",
              "    .dataframe thead th {\n",
              "        text-align: right;\n",
              "    }\n",
              "</style>\n",
              "<table border=\"1\" class=\"dataframe\">\n",
              "  <thead>\n",
              "    <tr style=\"text-align: right;\">\n",
              "      <th></th>\n",
              "      <th>NU_INSCRICAO</th>\n",
              "      <th>NU_ANO</th>\n",
              "      <th>CO_MUNICIPIO_RESIDENCIA</th>\n",
              "      <th>NO_MUNICIPIO_RESIDENCIA</th>\n",
              "      <th>CO_UF_RESIDENCIA</th>\n",
              "      <th>SG_UF_RESIDENCIA</th>\n",
              "      <th>NU_IDADE</th>\n",
              "      <th>TP_SEXO</th>\n",
              "      <th>TP_ESTADO_CIVIL</th>\n",
              "      <th>TP_COR_RACA</th>\n",
              "      <th>TP_NACIONALIDADE</th>\n",
              "      <th>CO_MUNICIPIO_NASCIMENTO</th>\n",
              "      <th>NO_MUNICIPIO_NASCIMENTO</th>\n",
              "      <th>CO_UF_NASCIMENTO</th>\n",
              "      <th>SG_UF_NASCIMENTO</th>\n",
              "      <th>TP_ST_CONCLUSAO</th>\n",
              "      <th>TP_ANO_CONCLUIU</th>\n",
              "      <th>TP_ESCOLA</th>\n",
              "      <th>TP_ENSINO</th>\n",
              "      <th>IN_TREINEIRO</th>\n",
              "      <th>CO_ESCOLA</th>\n",
              "      <th>CO_MUNICIPIO_ESC</th>\n",
              "      <th>NO_MUNICIPIO_ESC</th>\n",
              "      <th>CO_UF_ESC</th>\n",
              "      <th>SG_UF_ESC</th>\n",
              "      <th>TP_DEPENDENCIA_ADM_ESC</th>\n",
              "      <th>TP_LOCALIZACAO_ESC</th>\n",
              "      <th>TP_SIT_FUNC_ESC</th>\n",
              "      <th>IN_BAIXA_VISAO</th>\n",
              "      <th>IN_CEGUEIRA</th>\n",
              "      <th>IN_SURDEZ</th>\n",
              "      <th>IN_DEFICIENCIA_AUDITIVA</th>\n",
              "      <th>IN_SURDO_CEGUEIRA</th>\n",
              "      <th>IN_DEFICIENCIA_FISICA</th>\n",
              "      <th>IN_DEFICIENCIA_MENTAL</th>\n",
              "      <th>IN_DEFICIT_ATENCAO</th>\n",
              "      <th>IN_DISLEXIA</th>\n",
              "      <th>IN_DISCALCULIA</th>\n",
              "      <th>IN_AUTISMO</th>\n",
              "      <th>IN_VISAO_MONOCULAR</th>\n",
              "      <th>...</th>\n",
              "      <th>TX_RESPOSTAS_CH</th>\n",
              "      <th>TX_RESPOSTAS_LC</th>\n",
              "      <th>TX_RESPOSTAS_MT</th>\n",
              "      <th>TP_LINGUA</th>\n",
              "      <th>TX_GABARITO_CN</th>\n",
              "      <th>TX_GABARITO_CH</th>\n",
              "      <th>TX_GABARITO_LC</th>\n",
              "      <th>TX_GABARITO_MT</th>\n",
              "      <th>TP_STATUS_REDACAO</th>\n",
              "      <th>NU_NOTA_COMP1</th>\n",
              "      <th>NU_NOTA_COMP2</th>\n",
              "      <th>NU_NOTA_COMP3</th>\n",
              "      <th>NU_NOTA_COMP4</th>\n",
              "      <th>NU_NOTA_COMP5</th>\n",
              "      <th>NU_NOTA_REDACAO</th>\n",
              "      <th>Q001</th>\n",
              "      <th>Q002</th>\n",
              "      <th>Q003</th>\n",
              "      <th>Q004</th>\n",
              "      <th>Q005</th>\n",
              "      <th>Q006</th>\n",
              "      <th>Q007</th>\n",
              "      <th>Q008</th>\n",
              "      <th>Q009</th>\n",
              "      <th>Q010</th>\n",
              "      <th>Q011</th>\n",
              "      <th>Q012</th>\n",
              "      <th>Q013</th>\n",
              "      <th>Q014</th>\n",
              "      <th>Q015</th>\n",
              "      <th>Q016</th>\n",
              "      <th>Q017</th>\n",
              "      <th>Q018</th>\n",
              "      <th>Q019</th>\n",
              "      <th>Q020</th>\n",
              "      <th>Q021</th>\n",
              "      <th>Q022</th>\n",
              "      <th>Q023</th>\n",
              "      <th>Q024</th>\n",
              "      <th>Q025</th>\n",
              "    </tr>\n",
              "  </thead>\n",
              "  <tbody>\n",
              "    <tr>\n",
              "      <th>0</th>\n",
              "      <td>190001004661</td>\n",
              "      <td>2019</td>\n",
              "      <td>1506138</td>\n",
              "      <td>Redenção</td>\n",
              "      <td>15</td>\n",
              "      <td>PA</td>\n",
              "      <td>17</td>\n",
              "      <td>M</td>\n",
              "      <td>1</td>\n",
              "      <td>3</td>\n",
              "      <td>1</td>\n",
              "      <td>1506138.0</td>\n",
              "      <td>Redenção</td>\n",
              "      <td>15.0</td>\n",
              "      <td>PA</td>\n",
              "      <td>3</td>\n",
              "      <td>0</td>\n",
              "      <td>1</td>\n",
              "      <td>NaN</td>\n",
              "      <td>1</td>\n",
              "      <td>NaN</td>\n",
              "      <td>NaN</td>\n",
              "      <td>NaN</td>\n",
              "      <td>NaN</td>\n",
              "      <td>NaN</td>\n",
              "      <td>NaN</td>\n",
              "      <td>NaN</td>\n",
              "      <td>NaN</td>\n",
              "      <td>0</td>\n",
              "      <td>0</td>\n",
              "      <td>0</td>\n",
              "      <td>0</td>\n",
              "      <td>0</td>\n",
              "      <td>0</td>\n",
              "      <td>0</td>\n",
              "      <td>0</td>\n",
              "      <td>0</td>\n",
              "      <td>0</td>\n",
              "      <td>0</td>\n",
              "      <td>0</td>\n",
              "      <td>...</td>\n",
              "      <td>ACAEAAACABEBABAADCEEEDE*CBDCCCADADCCCBEBBBBDB</td>\n",
              "      <td>99999CCCABBCAADDBCEBCCADBEEBDECBAABDEACACAEABB...</td>\n",
              "      <td>DEEDCAECDDEEECBCBECABEBAECBBCDAECAEBBBBBDCCDB</td>\n",
              "      <td>1</td>\n",
              "      <td>DEADBAAAEBEECEBCBCBCBDADAEABCEDDDDADCBEECACBC</td>\n",
              "      <td>ACACEEBCCBABADBBBACDBBACCCCADCEBADCBEEDBBEADB</td>\n",
              "      <td>EBBADCABDABACBCEBDEEAAADDBECDECDDBADBCDAAECBCC...</td>\n",
              "      <td>AADDDBEEEBEDDBEBACABCDBABECECACAECDCBDCCEDCDA</td>\n",
              "      <td>1.0</td>\n",
              "      <td>60.0</td>\n",
              "      <td>100.0</td>\n",
              "      <td>80.0</td>\n",
              "      <td>80.0</td>\n",
              "      <td>100.0</td>\n",
              "      <td>420.0</td>\n",
              "      <td>B</td>\n",
              "      <td>B</td>\n",
              "      <td>A</td>\n",
              "      <td>A</td>\n",
              "      <td>4</td>\n",
              "      <td>B</td>\n",
              "      <td>A</td>\n",
              "      <td>C</td>\n",
              "      <td>B</td>\n",
              "      <td>A</td>\n",
              "      <td>C</td>\n",
              "      <td>B</td>\n",
              "      <td>A</td>\n",
              "      <td>A</td>\n",
              "      <td>A</td>\n",
              "      <td>A</td>\n",
              "      <td>A</td>\n",
              "      <td>A</td>\n",
              "      <td>A</td>\n",
              "      <td>B</td>\n",
              "      <td>A</td>\n",
              "      <td>C</td>\n",
              "      <td>A</td>\n",
              "      <td>B</td>\n",
              "      <td>B</td>\n",
              "    </tr>\n",
              "    <tr>\n",
              "      <th>1</th>\n",
              "      <td>190001004674</td>\n",
              "      <td>2019</td>\n",
              "      <td>1504208</td>\n",
              "      <td>Marabá</td>\n",
              "      <td>15</td>\n",
              "      <td>PA</td>\n",
              "      <td>23</td>\n",
              "      <td>M</td>\n",
              "      <td>1</td>\n",
              "      <td>3</td>\n",
              "      <td>1</td>\n",
              "      <td>1504208.0</td>\n",
              "      <td>Marabá</td>\n",
              "      <td>15.0</td>\n",
              "      <td>PA</td>\n",
              "      <td>1</td>\n",
              "      <td>3</td>\n",
              "      <td>1</td>\n",
              "      <td>1.0</td>\n",
              "      <td>0</td>\n",
              "      <td>NaN</td>\n",
              "      <td>NaN</td>\n",
              "      <td>NaN</td>\n",
              "      <td>NaN</td>\n",
              "      <td>NaN</td>\n",
              "      <td>NaN</td>\n",
              "      <td>NaN</td>\n",
              "      <td>NaN</td>\n",
              "      <td>0</td>\n",
              "      <td>0</td>\n",
              "      <td>0</td>\n",
              "      <td>0</td>\n",
              "      <td>0</td>\n",
              "      <td>0</td>\n",
              "      <td>0</td>\n",
              "      <td>0</td>\n",
              "      <td>0</td>\n",
              "      <td>0</td>\n",
              "      <td>0</td>\n",
              "      <td>0</td>\n",
              "      <td>...</td>\n",
              "      <td>ABBCEADCEBAAACACEDCDCDACCCACDCBCABCAACBDBDEDE</td>\n",
              "      <td>99999ABCEBCEDDECEEEBBCCEECCABDABEEBCDEAEBBEAEA...</td>\n",
              "      <td>NaN</td>\n",
              "      <td>1</td>\n",
              "      <td>NaN</td>\n",
              "      <td>CBABADBBCEEEBCBADCBEEDBBEADBBACDBBACCCCADACAC</td>\n",
              "      <td>BBEDABDACACBABAECBBCCADCEBDBBCDDEEAAADDBECDECA...</td>\n",
              "      <td>NaN</td>\n",
              "      <td>1.0</td>\n",
              "      <td>80.0</td>\n",
              "      <td>100.0</td>\n",
              "      <td>80.0</td>\n",
              "      <td>80.0</td>\n",
              "      <td>60.0</td>\n",
              "      <td>400.0</td>\n",
              "      <td>C</td>\n",
              "      <td>C</td>\n",
              "      <td>A</td>\n",
              "      <td>A</td>\n",
              "      <td>4</td>\n",
              "      <td>B</td>\n",
              "      <td>A</td>\n",
              "      <td>B</td>\n",
              "      <td>C</td>\n",
              "      <td>A</td>\n",
              "      <td>A</td>\n",
              "      <td>B</td>\n",
              "      <td>B</td>\n",
              "      <td>B</td>\n",
              "      <td>A</td>\n",
              "      <td>A</td>\n",
              "      <td>A</td>\n",
              "      <td>A</td>\n",
              "      <td>B</td>\n",
              "      <td>A</td>\n",
              "      <td>A</td>\n",
              "      <td>B</td>\n",
              "      <td>A</td>\n",
              "      <td>A</td>\n",
              "      <td>B</td>\n",
              "    </tr>\n",
              "    <tr>\n",
              "      <th>2</th>\n",
              "      <td>190001004722</td>\n",
              "      <td>2019</td>\n",
              "      <td>1501402</td>\n",
              "      <td>Belém</td>\n",
              "      <td>15</td>\n",
              "      <td>PA</td>\n",
              "      <td>35</td>\n",
              "      <td>F</td>\n",
              "      <td>2</td>\n",
              "      <td>1</td>\n",
              "      <td>1</td>\n",
              "      <td>1501402.0</td>\n",
              "      <td>Belém</td>\n",
              "      <td>15.0</td>\n",
              "      <td>PA</td>\n",
              "      <td>1</td>\n",
              "      <td>12</td>\n",
              "      <td>1</td>\n",
              "      <td>1.0</td>\n",
              "      <td>0</td>\n",
              "      <td>NaN</td>\n",
              "      <td>NaN</td>\n",
              "      <td>NaN</td>\n",
              "      <td>NaN</td>\n",
              "      <td>NaN</td>\n",
              "      <td>NaN</td>\n",
              "      <td>NaN</td>\n",
              "      <td>NaN</td>\n",
              "      <td>0</td>\n",
              "      <td>0</td>\n",
              "      <td>0</td>\n",
              "      <td>0</td>\n",
              "      <td>0</td>\n",
              "      <td>0</td>\n",
              "      <td>0</td>\n",
              "      <td>0</td>\n",
              "      <td>0</td>\n",
              "      <td>0</td>\n",
              "      <td>0</td>\n",
              "      <td>0</td>\n",
              "      <td>...</td>\n",
              "      <td>CDCAACCAAADEACBBEBAAEECDABDEBAEAABEDCABABAABC</td>\n",
              "      <td>99999ECBCECEBBABECCCECECCEECCDECEEEDADDDDECEDD...</td>\n",
              "      <td>DDBEADEBBCADCEEACABECBCEBADECADCEDAACBDABABCE</td>\n",
              "      <td>1</td>\n",
              "      <td>AAECACDEADCBCDDDBCBDADAEABCEBABEEBCBEECEBDADC</td>\n",
              "      <td>CBABADBBCEEEBCBADCBEEDBBEADBBACDBBACCCCADACAC</td>\n",
              "      <td>BBEDABDACACBABAECBBCCADCEBDBBCDDEEAAADDBECDECA...</td>\n",
              "      <td>EEEADBEBACABCDBABECECACDCBDCCEDCDABEDECDDDBAA</td>\n",
              "      <td>1.0</td>\n",
              "      <td>100.0</td>\n",
              "      <td>120.0</td>\n",
              "      <td>120.0</td>\n",
              "      <td>100.0</td>\n",
              "      <td>120.0</td>\n",
              "      <td>560.0</td>\n",
              "      <td>C</td>\n",
              "      <td>A</td>\n",
              "      <td>B</td>\n",
              "      <td>B</td>\n",
              "      <td>5</td>\n",
              "      <td>C</td>\n",
              "      <td>A</td>\n",
              "      <td>B</td>\n",
              "      <td>C</td>\n",
              "      <td>A</td>\n",
              "      <td>A</td>\n",
              "      <td>B</td>\n",
              "      <td>A</td>\n",
              "      <td>B</td>\n",
              "      <td>A</td>\n",
              "      <td>A</td>\n",
              "      <td>A</td>\n",
              "      <td>A</td>\n",
              "      <td>B</td>\n",
              "      <td>A</td>\n",
              "      <td>B</td>\n",
              "      <td>B</td>\n",
              "      <td>A</td>\n",
              "      <td>A</td>\n",
              "      <td>B</td>\n",
              "    </tr>\n",
              "    <tr>\n",
              "      <th>3</th>\n",
              "      <td>190001004735</td>\n",
              "      <td>2019</td>\n",
              "      <td>1507300</td>\n",
              "      <td>São Félix do Xingu</td>\n",
              "      <td>15</td>\n",
              "      <td>PA</td>\n",
              "      <td>23</td>\n",
              "      <td>F</td>\n",
              "      <td>1</td>\n",
              "      <td>3</td>\n",
              "      <td>1</td>\n",
              "      <td>1505437.0</td>\n",
              "      <td>Ourilândia do Norte</td>\n",
              "      <td>15.0</td>\n",
              "      <td>PA</td>\n",
              "      <td>1</td>\n",
              "      <td>7</td>\n",
              "      <td>1</td>\n",
              "      <td>NaN</td>\n",
              "      <td>0</td>\n",
              "      <td>NaN</td>\n",
              "      <td>NaN</td>\n",
              "      <td>NaN</td>\n",
              "      <td>NaN</td>\n",
              "      <td>NaN</td>\n",
              "      <td>NaN</td>\n",
              "      <td>NaN</td>\n",
              "      <td>NaN</td>\n",
              "      <td>0</td>\n",
              "      <td>0</td>\n",
              "      <td>0</td>\n",
              "      <td>0</td>\n",
              "      <td>0</td>\n",
              "      <td>0</td>\n",
              "      <td>0</td>\n",
              "      <td>0</td>\n",
              "      <td>0</td>\n",
              "      <td>0</td>\n",
              "      <td>0</td>\n",
              "      <td>0</td>\n",
              "      <td>...</td>\n",
              "      <td>EECCCEDBADBEAAAAEBAECEAAAAEEEBACCAC*CEAEDAECE</td>\n",
              "      <td>99999BABCDABBCBDDAAECADBDDADDCBCEEDCAEBCEAEABD...</td>\n",
              "      <td>CBDEBBCBDEBCABCDBDEDADCCBEDBCAECEBEBDEBAEECBC</td>\n",
              "      <td>1</td>\n",
              "      <td>BEEAAEBEEBADEADDADAEABCEDDDBCBCBCCACBCDADCCEB</td>\n",
              "      <td>EEBCEEDBADBBCBABCCADCEBACDBBACCACACBEADBBADCB</td>\n",
              "      <td>ADBBEDCABAABBCBCDAAECDDDBAAAECADECDCEBDEEAECBD...</td>\n",
              "      <td>BEDEEEAADBEBACABCDBABECECACADCBDCCEDCDABECDDD</td>\n",
              "      <td>1.0</td>\n",
              "      <td>100.0</td>\n",
              "      <td>120.0</td>\n",
              "      <td>120.0</td>\n",
              "      <td>120.0</td>\n",
              "      <td>40.0</td>\n",
              "      <td>500.0</td>\n",
              "      <td>E</td>\n",
              "      <td>C</td>\n",
              "      <td>A</td>\n",
              "      <td>A</td>\n",
              "      <td>1</td>\n",
              "      <td>B</td>\n",
              "      <td>A</td>\n",
              "      <td>B</td>\n",
              "      <td>C</td>\n",
              "      <td>A</td>\n",
              "      <td>A</td>\n",
              "      <td>B</td>\n",
              "      <td>A</td>\n",
              "      <td>A</td>\n",
              "      <td>A</td>\n",
              "      <td>A</td>\n",
              "      <td>A</td>\n",
              "      <td>A</td>\n",
              "      <td>B</td>\n",
              "      <td>A</td>\n",
              "      <td>A</td>\n",
              "      <td>B</td>\n",
              "      <td>A</td>\n",
              "      <td>A</td>\n",
              "      <td>B</td>\n",
              "    </tr>\n",
              "    <tr>\n",
              "      <th>4</th>\n",
              "      <td>190001004776</td>\n",
              "      <td>2019</td>\n",
              "      <td>1500800</td>\n",
              "      <td>Ananindeua</td>\n",
              "      <td>15</td>\n",
              "      <td>PA</td>\n",
              "      <td>16</td>\n",
              "      <td>F</td>\n",
              "      <td>1</td>\n",
              "      <td>3</td>\n",
              "      <td>1</td>\n",
              "      <td>1500800.0</td>\n",
              "      <td>Ananindeua</td>\n",
              "      <td>15.0</td>\n",
              "      <td>PA</td>\n",
              "      <td>3</td>\n",
              "      <td>0</td>\n",
              "      <td>1</td>\n",
              "      <td>NaN</td>\n",
              "      <td>1</td>\n",
              "      <td>NaN</td>\n",
              "      <td>NaN</td>\n",
              "      <td>NaN</td>\n",
              "      <td>NaN</td>\n",
              "      <td>NaN</td>\n",
              "      <td>NaN</td>\n",
              "      <td>NaN</td>\n",
              "      <td>NaN</td>\n",
              "      <td>0</td>\n",
              "      <td>0</td>\n",
              "      <td>0</td>\n",
              "      <td>0</td>\n",
              "      <td>0</td>\n",
              "      <td>0</td>\n",
              "      <td>0</td>\n",
              "      <td>0</td>\n",
              "      <td>0</td>\n",
              "      <td>0</td>\n",
              "      <td>0</td>\n",
              "      <td>0</td>\n",
              "      <td>...</td>\n",
              "      <td>CCBCBEACABACABBBBACCBCEBDCBABCADADCBCADBAADEA</td>\n",
              "      <td>EBCAB99999BBCECBCACBEACBDAABDBCBBDACEBBACDCAEC...</td>\n",
              "      <td>AECCBBCBBCBDEDECACBAABEDABBEDDADCEADDBEBDBBEB</td>\n",
              "      <td>0</td>\n",
              "      <td>DEADBAAAEBEECEBCBCBCBDADAEABCEDDDDADCBEECACBC</td>\n",
              "      <td>ACACEEBCCBABADBBBACDBBACCCCADCEBADCBEEDBBEADB</td>\n",
              "      <td>EBBADCABDABACBCEBDEEAAADDBECDECDDBADBCDAAECBCC...</td>\n",
              "      <td>AADDDBEEEBEDDBEBACABCDBABECECACAECDCBDCCEDCDA</td>\n",
              "      <td>1.0</td>\n",
              "      <td>160.0</td>\n",
              "      <td>140.0</td>\n",
              "      <td>160.0</td>\n",
              "      <td>160.0</td>\n",
              "      <td>160.0</td>\n",
              "      <td>780.0</td>\n",
              "      <td>E</td>\n",
              "      <td>E</td>\n",
              "      <td>B</td>\n",
              "      <td>D</td>\n",
              "      <td>3</td>\n",
              "      <td>E</td>\n",
              "      <td>A</td>\n",
              "      <td>B</td>\n",
              "      <td>C</td>\n",
              "      <td>B</td>\n",
              "      <td>A</td>\n",
              "      <td>B</td>\n",
              "      <td>A</td>\n",
              "      <td>A</td>\n",
              "      <td>A</td>\n",
              "      <td>A</td>\n",
              "      <td>A</td>\n",
              "      <td>A</td>\n",
              "      <td>B</td>\n",
              "      <td>A</td>\n",
              "      <td>A</td>\n",
              "      <td>D</td>\n",
              "      <td>A</td>\n",
              "      <td>A</td>\n",
              "      <td>B</td>\n",
              "    </tr>\n",
              "  </tbody>\n",
              "</table>\n",
              "<p>5 rows × 136 columns</p>\n",
              "</div>"
            ],
            "text/plain": [
              "   NU_INSCRICAO  NU_ANO  CO_MUNICIPIO_RESIDENCIA  ... Q023  Q024 Q025\n",
              "0  190001004661    2019                  1506138  ...    A     B    B\n",
              "1  190001004674    2019                  1504208  ...    A     A    B\n",
              "2  190001004722    2019                  1501402  ...    A     A    B\n",
              "3  190001004735    2019                  1507300  ...    A     A    B\n",
              "4  190001004776    2019                  1500800  ...    A     A    B\n",
              "\n",
              "[5 rows x 136 columns]"
            ]
          },
          "metadata": {
            "tags": []
          },
          "execution_count": 3
        }
      ]
    },
    {
      "cell_type": "markdown",
      "metadata": {
        "id": "5Z2LINFIz7BK"
      },
      "source": [
        "#Características gerais dos inscritos"
      ]
    },
    {
      "cell_type": "markdown",
      "metadata": {
        "id": "rpo2jN51zlgW"
      },
      "source": [
        "Gráfico de percentual de residentes por estado"
      ]
    },
    {
      "cell_type": "code",
      "metadata": {
        "id": "CbZuibTV8k1B",
        "outputId": "b648ed62-e638-4746-b6ff-a32dacdfffda",
        "colab": {
          "base_uri": "https://localhost:8080/",
          "height": 305
        }
      },
      "source": [
        "((dados.SG_UF_RESIDENCIA.value_counts()/(dados.SG_UF_RESIDENCIA.value_counts().sum()))*100).plot.bar()\n",
        "plt.title('Percentual de residentes por estado')\n",
        "plt.ylabel(\"Percentual (%)\")"
      ],
      "execution_count": 13,
      "outputs": [
        {
          "output_type": "execute_result",
          "data": {
            "text/plain": [
              "Text(0, 0.5, 'Percentual (%)')"
            ]
          },
          "metadata": {
            "tags": []
          },
          "execution_count": 13
        },
        {
          "output_type": "display_data",
          "data": {
            "image/png": "[encoded data removed]",
            "text/plain": [
              "<Figure size 432x288 with 1 Axes>"
            ]
          },
          "metadata": {
            "tags": [],
            "needs_background": "light"
          }
        }
      ]
    },
    {
      "cell_type": "markdown",
      "metadata": {
        "id": "bCvXfryYy6o4"
      },
      "source": [
        "Percentual de inscritos por estado de nascimento"
      ]
    },
    {
      "cell_type": "code",
      "metadata": {
        "id": "n4K_1Z2Y86iw",
        "outputId": "2f9e771d-e2b8-49f0-8779-314f001cd323",
        "colab": {
          "base_uri": "https://localhost:8080/",
          "height": 305
        }
      },
      "source": [
        "((dados.SG_UF_NASCIMENTO.value_counts()/dados.SG_UF_NASCIMENTO.value_counts().sum())*100).plot.bar()\n",
        "plt.title('Percentual de nascidos por estado')\n",
        "plt.ylabel(\"Percentual (%)\")"
      ],
      "execution_count": 9,
      "outputs": [
        {
          "output_type": "execute_result",
          "data": {
            "text/plain": [
              "Text(0, 0.5, 'Percentual (%)')"
            ]
          },
          "metadata": {
            "tags": []
          },
          "execution_count": 9
        },
        {
          "output_type": "display_data",
          "data": {
            "image/png": "[encoded data removed]",
            "text/plain": [
              "<Figure size 432x288 with 1 Axes>"
            ]
          },
          "metadata": {
            "tags": [],
            "needs_background": "light"
          }
        }
      ]
    },
    {
      "cell_type": "markdown",
      "metadata": {
        "id": "OmW66AFU4PZc"
      },
      "source": [
        "#Análise da migração a longo prazo"
      ]
    },
    {
      "cell_type": "markdown",
      "metadata": {
        "id": "obGsfTfEyEUX"
      },
      "source": [
        "Percentual de pessoas fazendo provas no estado"
      ]
    },
    {
      "cell_type": "code",
      "metadata": {
        "id": "qPBJprlaBGi1",
        "outputId": "97343979-2d2f-4f7d-c245-664f9f31fc60",
        "colab": {
          "base_uri": "https://localhost:8080/",
          "height": 305
        }
      },
      "source": [
        "((dados.SG_UF_PROVA.value_counts()/dados.SG_UF_PROVA.value_counts().sum())*100).plot.bar()\n",
        "plt.title('Percentual de pessoas fazendo a prova por estado por estado')\n",
        "plt.ylabel(\"Percentual (%)\")"
      ],
      "execution_count": 14,
      "outputs": [
        {
          "output_type": "execute_result",
          "data": {
            "text/plain": [
              "Text(0, 0.5, 'Percentual (%)')"
            ]
          },
          "metadata": {
            "tags": []
          },
          "execution_count": 14
        },
        {
          "output_type": "display_data",
          "data": {
            "image/png": "[encoded data removed]",
            "text/plain": [
              "<Figure size 432x288 with 1 Axes>"
            ]
          },
          "metadata": {
            "tags": [],
            "needs_background": "light"
          }
        }
      ]
    },
    {
      "cell_type": "markdown",
      "metadata": {
        "id": "OrRzXJWix8IS"
      },
      "source": [
        "Gráfico da origem das pessoas que saíram do seu estado para fazer o enem"
      ]
    },
    {
      "cell_type": "code",
      "metadata": {
        "id": "-Jm1QbupBK0r",
        "outputId": "4a75ac21-72f3-49d8-c5d5-3ca6143a0730",
        "colab": {
          "base_uri": "https://localhost:8080/",
          "height": 305
        }
      },
      "source": [
        "((dados[dados['SG_UF_NASCIMENTO']!=dados['SG_UF_PROVA']].SG_UF_NASCIMENTO.value_counts()/dados[dados['SG_UF_NASCIMENTO']!=dados['SG_UF_PROVA']].SG_UF_NASCIMENTO.value_counts().sum())*100).plot.bar()\n",
        "plt.title('Comparação entre estados da origem das pessoas fazendo a prova fora do estado')\n",
        "plt.ylabel(\"Percentual (%)\")"
      ],
      "execution_count": 35,
      "outputs": [
        {
          "output_type": "execute_result",
          "data": {
            "text/plain": [
              "Text(0, 0.5, 'Percentual (%)')"
            ]
          },
          "metadata": {
            "tags": []
          },
          "execution_count": 35
        },
        {
          "output_type": "display_data",
          "data": {
            "image/png": "[encoded data removed]",
            "text/plain": [
              "<Figure size 432x288 with 1 Axes>"
            ]
          },
          "metadata": {
            "tags": [],
            "needs_background": "light"
          }
        }
      ]
    },
    {
      "cell_type": "code",
      "metadata": {
        "id": "Baa-YsmiBoPj",
        "outputId": "0ce41022-ef8f-4ed2-d5f3-a528d56790eb",
        "colab": {
          "base_uri": "https://localhost:8080/",
          "height": 289
        }
      },
      "source": [
        "dados[dados['SG_UF_NASCIMENTO']!=dados['SG_UF_PROVA']].SG_UF_PROVA.value_counts().plot.bar()"
      ],
      "execution_count": 8,
      "outputs": [
        {
          "output_type": "execute_result",
          "data": {
            "text/plain": [
              "<matplotlib.axes._subplots.AxesSubplot at 0x7f6ceb035320>"
            ]
          },
          "metadata": {
            "tags": []
          },
          "execution_count": 8
        },
        {
          "output_type": "display_data",
          "data": {
            "image/png": "[encoded data removed]",
            "text/plain": [
              "<Figure size 432x288 with 1 Axes>"
            ]
          },
          "metadata": {
            "tags": [],
            "needs_background": "light"
          }
        }
      ]
    },
    {
      "cell_type": "markdown",
      "metadata": {
        "id": "8tM517CI3RnK"
      },
      "source": [
        "Onde os paulistas que saíram do estado estão indo fazer a prova"
      ]
    },
    {
      "cell_type": "code",
      "metadata": {
        "id": "VA9ramASB5Jd",
        "outputId": "75b4e0b3-8347-4895-984d-e5d239197a41",
        "colab": {
          "base_uri": "https://localhost:8080/",
          "height": 305
        }
      },
      "source": [
        "((dados[(dados['SG_UF_NASCIMENTO']!=dados['SG_UF_PROVA'])& (dados['SG_UF_PROVA']=='SP')].SG_UF_NASCIMENTO.value_counts()/dados[(dados['SG_UF_NASCIMENTO']!=dados['SG_UF_PROVA'])& (dados['SG_UF_PROVA']=='SP')].SG_UF_NASCIMENTO.value_counts().sum())*100).plot.bar()\n",
        "plt.title('Para onde os paulistas migraram')\n",
        "plt.ylabel(\"Percentual (%)\")"
      ],
      "execution_count": 37,
      "outputs": [
        {
          "output_type": "execute_result",
          "data": {
            "text/plain": [
              "Text(0, 0.5, 'Percentual (%)')"
            ]
          },
          "metadata": {
            "tags": []
          },
          "execution_count": 37
        },
        {
          "output_type": "display_data",
          "data": {
            "image/png": "[encoded data removed]",
            "text/plain": [
              "<Figure size 432x288 with 1 Axes>"
            ]
          },
          "metadata": {
            "tags": [],
            "needs_background": "light"
          }
        }
      ]
    },
    {
      "cell_type": "code",
      "metadata": {
        "id": "bvJqzqeJ31KI",
        "outputId": "d2a5c9ca-8ab4-477d-f2ed-964f9b4e327d",
        "colab": {
          "base_uri": "https://localhost:8080/",
          "height": 305
        }
      },
      "source": [
        "((dados[(dados['SG_UF_NASCIMENTO']!=dados['SG_UF_PROVA'])& (dados['SG_UF_PROVA']=='ES')].SG_UF_NASCIMENTO.value_counts()/dados[(dados['SG_UF_NASCIMENTO']!=dados['SG_UF_PROVA'])& (dados['SG_UF_PROVA']=='ES')].SG_UF_NASCIMENTO.value_counts().sum())*100).plot.bar()\n",
        "plt.title('Para onde as pessoas do espírito santo migraram')\n",
        "plt.ylabel(\"Percentual (%)\")"
      ],
      "execution_count": 39,
      "outputs": [
        {
          "output_type": "execute_result",
          "data": {
            "text/plain": [
              "Text(0, 0.5, 'Percentual (%)')"
            ]
          },
          "metadata": {
            "tags": []
          },
          "execution_count": 39
        },
        {
          "output_type": "display_data",
          "data": {
            "image/png": "[encoded data removed]",
            "text/plain": [
              "<Figure size 432x288 with 1 Axes>"
            ]
          },
          "metadata": {
            "tags": [],
            "needs_background": "light"
          }
        }
      ]
    },
    {
      "cell_type": "code",
      "metadata": {
        "id": "M77RB_00CWEo",
        "outputId": "5fe9902f-ce32-436d-f73d-9ff74e51615a",
        "colab": {
          "base_uri": "https://localhost:8080/",
          "height": 289
        }
      },
      "source": [
        "dados[(dados['SG_UF_NASCIMENTO']!=dados['SG_UF_PROVA'])& (dados['SG_UF_PROVA']=='BA')].SG_UF_NASCIMENTO.value_counts().plot.bar()"
      ],
      "execution_count": 10,
      "outputs": [
        {
          "output_type": "execute_result",
          "data": {
            "text/plain": [
              "<matplotlib.axes._subplots.AxesSubplot at 0x7f6ceafe6898>"
            ]
          },
          "metadata": {
            "tags": []
          },
          "execution_count": 10
        },
        {
          "output_type": "display_data",
          "data": {
            "image/png": "[encoded data removed]",
            "text/plain": [
              "<Figure size 432x288 with 1 Axes>"
            ]
          },
          "metadata": {
            "tags": [],
            "needs_background": "light"
          }
        }
      ]
    },
    {
      "cell_type": "code",
      "metadata": {
        "id": "gTwgNQq9Ch26",
        "outputId": "aad25eec-91ef-4214-dba2-2498df307cca",
        "colab": {
          "base_uri": "https://localhost:8080/",
          "height": 289
        }
      },
      "source": [
        "dados[(dados['SG_UF_NASCIMENTO']!=dados['SG_UF_PROVA'])& (dados['SG_UF_PROVA']=='PE')].SG_UF_NASCIMENTO.value_counts().plot.bar()"
      ],
      "execution_count": 11,
      "outputs": [
        {
          "output_type": "execute_result",
          "data": {
            "text/plain": [
              "<matplotlib.axes._subplots.AxesSubplot at 0x7f6ceb08c208>"
            ]
          },
          "metadata": {
            "tags": []
          },
          "execution_count": 11
        },
        {
          "output_type": "display_data",
          "data": {
            "image/png": "[encoded data removed]",
            "text/plain": [
              "<Figure size 432x288 with 1 Axes>"
            ]
          },
          "metadata": {
            "tags": [],
            "needs_background": "light"
          }
        }
      ]
    },
    {
      "cell_type": "code",
      "metadata": {
        "id": "GSCvPL9VCoA0",
        "outputId": "7f92a1c7-6060-42f4-f40d-c4c524f37589",
        "colab": {
          "base_uri": "https://localhost:8080/",
          "height": 285
        }
      },
      "source": [
        "dados.NU_IDADE.value_counts().plot.bar()"
      ],
      "execution_count": 12,
      "outputs": [
        {
          "output_type": "execute_result",
          "data": {
            "text/plain": [
              "<matplotlib.axes._subplots.AxesSubplot at 0x7f6ceac98438>"
            ]
          },
          "metadata": {
            "tags": []
          },
          "execution_count": 12
        },
        {
          "output_type": "display_data",
          "data": {
            "image/png": "[encoded data removed]",
            "text/plain": [
              "<Figure size 432x288 with 1 Axes>"
            ]
          },
          "metadata": {
            "tags": [],
            "needs_background": "light"
          }
        }
      ]
    },
    {
      "cell_type": "code",
      "metadata": {
        "id": "4dN9XtXWFuKl",
        "outputId": "c2a31c21-15c8-42b0-eb99-43092bf75bf3",
        "colab": {
          "base_uri": "https://localhost:8080/",
          "height": 285
        }
      },
      "source": [
        "dados[dados['NU_IDADE']>40].NU_IDADE.value_counts().plot.bar()"
      ],
      "execution_count": 14,
      "outputs": [
        {
          "output_type": "execute_result",
          "data": {
            "text/plain": [
              "<matplotlib.axes._subplots.AxesSubplot at 0x7f6ce6853978>"
            ]
          },
          "metadata": {
            "tags": []
          },
          "execution_count": 14
        },
        {
          "output_type": "display_data",
          "data": {
            "image/png": "[encoded data removed]",
            "text/plain": [
              "<Figure size 432x288 with 1 Axes>"
            ]
          },
          "metadata": {
            "tags": [],
            "needs_background": "light"
          }
        }
      ]
    },
    {
      "cell_type": "code",
      "metadata": {
        "id": "pA4yK1UtGFix",
        "outputId": "c3df8a10-45f3-43f5-d527-389e75db8add",
        "colab": {
          "base_uri": "https://localhost:8080/",
          "height": 289
        }
      },
      "source": [
        "dados[(dados['SG_UF_NASCIMENTO']!=dados['SG_UF_PROVA'])& (dados['SG_UF_PROVA']=='RN')].SG_UF_NASCIMENTO.value_counts().plot.bar()"
      ],
      "execution_count": 15,
      "outputs": [
        {
          "output_type": "execute_result",
          "data": {
            "text/plain": [
              "<matplotlib.axes._subplots.AxesSubplot at 0x7f6ce12c0588>"
            ]
          },
          "metadata": {
            "tags": []
          },
          "execution_count": 15
        },
        {
          "output_type": "display_data",
          "data": {
            "image/png": "[encoded data removed]",
            "text/plain": [
              "<Figure size 432x288 with 1 Axes>"
            ]
          },
          "metadata": {
            "tags": [],
            "needs_background": "light"
          }
        }
      ]
    },
    {
      "cell_type": "code",
      "metadata": {
        "id": "hm_BTnfgHZgd",
        "outputId": "fb8adbe1-eba0-431d-fe9a-a8ff09d82f6a",
        "colab": {
          "base_uri": "https://localhost:8080/",
          "height": 290
        }
      },
      "source": [
        "dados[(dados['SG_UF_NASCIMENTO']!='SP')& (dados['SG_UF_PROVA']=='SP')].SG_UF_NASCIMENTO.value_counts().plot.bar()"
      ],
      "execution_count": 16,
      "outputs": [
        {
          "output_type": "execute_result",
          "data": {
            "text/plain": [
              "<matplotlib.axes._subplots.AxesSubplot at 0x7f6ce12c0668>"
            ]
          },
          "metadata": {
            "tags": []
          },
          "execution_count": 16
        },
        {
          "output_type": "display_data",
          "data": {
            "image/png": "[encoded data removed]",
            "text/plain": [
              "<Figure size 432x288 with 1 Axes>"
            ]
          },
          "metadata": {
            "tags": [],
            "needs_background": "light"
          }
        }
      ]
    },
    {
      "cell_type": "code",
      "metadata": {
        "id": "UCn-j-CAH7_I"
      },
      "source": [
        "pop={'SP':21.9,'MG':10.1,'RJ':8.2,'BA':7.1,'PR':5.4,'RS':5.4,'PE':4.5,'CE':4.3,'PA':4.1,'SC':3.4,'MA':3.4,'GO':3.4,'AM':2,'ES':1.9,'PB':1.9,'RN':1.7,'MT':1.7,'AL':1.6,'PI':1.6,'DF':1.4,'MS':1.3,'SE':1.1,'RO':0.8,'TO':0.7,'AC':0.4,'AP':0.4,'RR':0.3}"
      ],
      "execution_count": 19,
      "outputs": []
    },
    {
      "cell_type": "code",
      "metadata": {
        "id": "LInZY8xeK8QF",
        "outputId": "77c2c4a8-9ea2-4059-a16f-a1ad0d154dc4",
        "colab": {
          "base_uri": "https://localhost:8080/",
          "height": 470
        }
      },
      "source": [
        "pop"
      ],
      "execution_count": 18,
      "outputs": [
        {
          "output_type": "execute_result",
          "data": {
            "text/plain": [
              "{'AC': 0.4,\n",
              " 'AL': 1.6,\n",
              " 'AM': 2,\n",
              " 'AP': 0.4,\n",
              " 'BA': 7.1,\n",
              " 'CE': 4.3,\n",
              " 'DF': 1.4,\n",
              " 'ES': 1.9,\n",
              " 'GO': 3.4,\n",
              " 'MA': 3.4,\n",
              " 'MG': 10.1,\n",
              " 'MS': 1.3,\n",
              " 'MT': 1.7,\n",
              " 'PA': 4.1,\n",
              " 'PB': 1.9,\n",
              " 'PE': 4.5,\n",
              " 'PI': 1.6,\n",
              " 'PR': 5.4,\n",
              " 'RJ': 8.2,\n",
              " 'RN': 1.7,\n",
              " 'RO': 0.8,\n",
              " 'RR': 0.3,\n",
              " 'RS': 5.4,\n",
              " 'SC': 3.4,\n",
              " 'SE': 1.1,\n",
              " 'SP': 21.9,\n",
              " 'TO': 0.7}"
            ]
          },
          "metadata": {
            "tags": []
          },
          "execution_count": 18
        }
      ]
    },
    {
      "cell_type": "code",
      "metadata": {
        "id": "5jwLXBniLDDj",
        "outputId": "b078bc97-cd4f-44ee-ed2f-145601785e90",
        "colab": {
          "base_uri": "https://localhost:8080/",
          "height": 218
        }
      },
      "source": [
        "dados.NU_NOTA_MT"
      ],
      "execution_count": 19,
      "outputs": [
        {
          "output_type": "execute_result",
          "data": {
            "text/plain": [
              "0         432.4\n",
              "1           NaN\n",
              "2         427.2\n",
              "3         499.9\n",
              "4         424.5\n",
              "          ...  \n",
              "127375    539.7\n",
              "127376    418.2\n",
              "127377      NaN\n",
              "127378    455.7\n",
              "127379    438.5\n",
              "Name: NU_NOTA_MT, Length: 127380, dtype: float64"
            ]
          },
          "metadata": {
            "tags": []
          },
          "execution_count": 19
        }
      ]
    },
    {
      "cell_type": "code",
      "metadata": {
        "id": "WoKY93iWMr5f",
        "outputId": "0f8effc3-abfa-4afc-cabc-a4713414661e",
        "colab": {
          "base_uri": "https://localhost:8080/",
          "height": 282
        }
      },
      "source": [
        "dados[(dados['SG_UF_NASCIMENTO']!='SP')& (dados['SG_UF_PROVA']=='SP')].NU_NOTA_MT.hist()"
      ],
      "execution_count": 20,
      "outputs": [
        {
          "output_type": "execute_result",
          "data": {
            "text/plain": [
              "<matplotlib.axes._subplots.AxesSubplot at 0x7f6ce0be24a8>"
            ]
          },
          "metadata": {
            "tags": []
          },
          "execution_count": 20
        },
        {
          "output_type": "display_data",
          "data": {
            "image/png": "[encoded data removed]",
            "text/plain": [
              "<Figure size 432x288 with 1 Axes>"
            ]
          },
          "metadata": {
            "tags": [],
            "needs_background": "light"
          }
        }
      ]
    },
    {
      "cell_type": "code",
      "metadata": {
        "id": "lt9hL2F9cXds",
        "outputId": "0bf3bd21-aaf9-46dc-f0c0-58e76b2e4a40",
        "colab": {
          "base_uri": "https://localhost:8080/",
          "height": 282
        }
      },
      "source": [
        "dados[(dados['SG_UF_NASCIMENTO']=='SP')& (dados['SG_UF_PROVA']=='SP')].NU_NOTA_MT.hist()"
      ],
      "execution_count": 21,
      "outputs": [
        {
          "output_type": "execute_result",
          "data": {
            "text/plain": [
              "<matplotlib.axes._subplots.AxesSubplot at 0x7f6cdebaceb8>"
            ]
          },
          "metadata": {
            "tags": []
          },
          "execution_count": 21
        },
        {
          "output_type": "display_data",
          "data": {
            "image/png": "[encoded data removed]",
            "text/plain": [
              "<Figure size 432x288 with 1 Axes>"
            ]
          },
          "metadata": {
            "tags": [],
            "needs_background": "light"
          }
        }
      ]
    },
    {
      "cell_type": "markdown",
      "metadata": {
        "id": "xfY40XzpdlSe"
      },
      "source": [
        "#Migração de inteligência"
      ]
    },
    {
      "cell_type": "code",
      "metadata": {
        "id": "GdbTa-q2srJ8",
        "outputId": "829c7405-5399-4718-bb5e-979d93a3edd1",
        "colab": {
          "base_uri": "https://localhost:8080/",
          "height": 67
        }
      },
      "source": [
        "estados=dados['SG_UF_PROVA'].unique()"
      ],
      "execution_count": 18,
      "outputs": [
        {
          "output_type": "execute_result",
          "data": {
            "text/plain": [
              "array(['PA', 'RO', 'AM', 'RR', 'PR', 'PI', 'AC', 'MT', 'MA', 'CE', 'SP',\n",
              "       'AP', 'TO', 'SC', 'GO', 'BA', 'MG', 'SE', 'PE', 'AL', 'RJ', 'RN',\n",
              "       'PB', 'ES', 'RS', 'MS', 'DF'], dtype=object)"
            ]
          },
          "metadata": {
            "tags": []
          },
          "execution_count": 18
        }
      ]
    },
    {
      "cell_type": "markdown",
      "metadata": {
        "id": "7pMqQYUow8PA"
      },
      "source": [
        "Comparação do estado de nascença das pessoas que foram fazer prova fora do seu estado, normalizado pela população local, comparando com o todo"
      ]
    },
    {
      "cell_type": "code",
      "metadata": {
        "id": "XfOaMC-SuvLU",
        "outputId": "83e45d4d-5b07-4263-96f6-05aff80a704a",
        "colab": {
          "base_uri": "https://localhost:8080/",
          "height": 305
        }
      },
      "source": [
        "mig=dados[dados['SG_UF_NASCIMENTO']!=dados['SG_UF_PROVA']].SG_UF_NASCIMENTO.value_counts()\n",
        "for estado in estados:\n",
        "  mig[estado]=mig[estado]/pop[estado]\n",
        "maximo=mig.sum()\n",
        "for estado in estados:\n",
        "  mig[estado]=(mig[estado]/maximo)*100\n",
        "mig=mig.sort_values()\n",
        "mig.plot.bar()\n",
        "plt.title('Comparação do estado de nascença das pessoas que foram fazer prova fora do seu estado, normalizado pela população estudal, comparando com o todo')\n",
        "plt.ylabel('Percentual (%)')"
      ],
      "execution_count": 84,
      "outputs": [
        {
          "output_type": "execute_result",
          "data": {
            "text/plain": [
              "Text(0, 0.5, 'Percentual (%)')"
            ]
          },
          "metadata": {
            "tags": []
          },
          "execution_count": 84
        },
        {
          "output_type": "display_data",
          "data": {
            "image/png": "[encoded data removed]",
            "text/plain": [
              "<Figure size 432x288 with 1 Axes>"
            ]
          },
          "metadata": {
            "tags": [],
            "needs_background": "light"
          }
        }
      ]
    },
    {
      "cell_type": "markdown",
      "metadata": {
        "id": "LhJEODd_x7p6"
      },
      "source": [
        "Onde foram fazer as provas as pessoas que não fizeram em seu estado de nascença, normalizado pela população local, comparando com o todo"
      ]
    },
    {
      "cell_type": "code",
      "metadata": {
        "id": "-r28n5mZxlst",
        "outputId": "5d2b20b5-baaa-4ba7-9a8c-d13720a89d1c",
        "colab": {
          "base_uri": "https://localhost:8080/",
          "height": 289
        }
      },
      "source": [
        "mig1=dados[dados['SG_UF_NASCIMENTO']!=dados['SG_UF_PROVA']].SG_UF_PROVA.value_counts()\n",
        "for estado in estados:\n",
        "  mig1[estado]=df_mig1[estado]/pop[estado]\n",
        "maximo=mig1.sum()\n",
        "for estado in estados:\n",
        "  mig1[estado]=(mig1[estado]/maximo)*100\n",
        "mig1=mig1.sort_values()\n",
        "mig1.plot.bar()\n",
        "plt.ylabel('Percentual (%)')"
      ],
      "execution_count": 85,
      "outputs": [
        {
          "output_type": "execute_result",
          "data": {
            "text/plain": [
              "Text(0, 0.5, 'Percentual (%)')"
            ]
          },
          "metadata": {
            "tags": []
          },
          "execution_count": 85
        },
        {
          "output_type": "display_data",
          "data": {
            "image/png": "[encoded data removed]",
            "text/plain": [
              "<Figure size 432x288 with 1 Axes>"
            ]
          },
          "metadata": {
            "tags": [],
            "needs_background": "light"
          }
        }
      ]
    },
    {
      "cell_type": "code",
      "metadata": {
        "id": "aQ4eyth648S_",
        "outputId": "02c95648-867d-4196-a8a6-21282b57dc3c",
        "colab": {
          "base_uri": "https://localhost:8080/",
          "height": 421
        }
      },
      "source": [
        "fig = plt.figure(figsize=(10,6))\n",
        "ax = fig.add_subplot(111)\n",
        "esp=0.3\n",
        "#ax = plt.subplot(111)\n",
        "ax.set_ylabel('percentual (%)')\n",
        "ax.set_xlabel('estados')\n",
        "ax.set_title('Migração dos estudantes')\n",
        "ax.bar(estados, mig,width=esp, color='b',align='edge', label='Estado enviando')\n",
        "ax.bar(estados, mig1,width=esp, color='g',align='center', label='Estado recebendo')\n",
        "ax.legend(bbox_to_anchor=(1.05, 1), loc='upper left', borderaxespad=0.)"
      ],
      "execution_count": 93,
      "outputs": [
        {
          "output_type": "execute_result",
          "data": {
            "text/plain": [
              "<matplotlib.legend.Legend at 0x7f0bb31435f8>"
            ]
          },
          "metadata": {
            "tags": []
          },
          "execution_count": 93
        },
        {
          "output_type": "display_data",
          "data": {
            "image/png": "[encoded data removed]",
            "text/plain": [
              "<Figure size 720x432 with 1 Axes>"
            ]
          },
          "metadata": {
            "tags": [],
            "needs_background": "light"
          }
        }
      ]
    },
    {
      "cell_type": "code",
      "metadata": {
        "id": "WUnWN7Hl78VN"
      },
      "source": [
        "bases=[df,df1]\n",
        "df2=pd.concat(bases,axis=1)\n",
        "df2=df2.reset_index()\n",
        "df2.columns=['UF','Origem', 'Lugar da prova']\n"
      ],
      "execution_count": 147,
      "outputs": []
    },
    {
      "cell_type": "code",
      "metadata": {
        "id": "_W1ZU6eFFLSa",
        "outputId": "d748f38f-7d1f-4b41-bf99-bd65ea542cf7",
        "colab": {
          "base_uri": "https://localhost:8080/",
          "height": 400
        }
      },
      "source": [
        "plt.figure(figsize=(10, 6))\n",
        "plt.title('Estados que receberam ')\n",
        "sns.catplot(y='UF',x='Lugar da prova',kind='bar',data=df2)\n",
        "plt.show()"
      ],
      "execution_count": 153,
      "outputs": [
        {
          "output_type": "display_data",
          "data": {
            "text/plain": [
              "<Figure size 720x432 with 0 Axes>"
            ]
          },
          "metadata": {
            "tags": []
          }
        },
        {
          "output_type": "display_data",
          "data": {
            "image/png": "[encoded data removed]",
            "text/plain": [
              "<Figure size 360x360 with 1 Axes>"
            ]
          },
          "metadata": {
            "tags": [],
            "needs_background": "light"
          }
        }
      ]
    },
    {
      "cell_type": "code",
      "metadata": {
        "id": "F6n_sYHwslKa"
      },
      "source": [
        "migração={}\n",
        "nativo={}\n",
        "for estado in estados:\n",
        "    nativo[estado]=dados[(dados['SG_UF_NASCIMENTO']==estado)& (dados['SG_UF_PROVA']==estado)].NU_NOTA_MT.median()\n",
        "    nativo[estado]=round(nativo[estado]/pop[estado],2)\n",
        "    migração[estado]=dados[(dados['SG_UF_NASCIMENTO']==estado)& (dados['SG_UF_PROVA']!=estado)].NU_NOTA_MT.median()\n",
        "    migração[estado]=round(migração[estado]/pop[estado],2)"
      ],
      "execution_count": 174,
      "outputs": []
    },
    {
      "cell_type": "code",
      "metadata": {
        "id": "zZloHSWPdq4T"
      },
      "source": [
        "estado='SP'"
      ],
      "execution_count": 20,
      "outputs": []
    },
    {
      "cell_type": "markdown",
      "metadata": {
        "id": "-O6jTgFRd9wZ"
      },
      "source": [
        "Nascido no estado e fazendo prova no estado"
      ]
    },
    {
      "cell_type": "code",
      "metadata": {
        "id": "CnQxQXtbd5L1",
        "outputId": "be5f13be-dd70-4cb4-ec08-fd47140ed1d6",
        "colab": {
          "base_uri": "https://localhost:8080/",
          "height": 34
        }
      },
      "source": [
        "dados[(dados['SG_UF_NASCIMENTO']==estado)& (dados['SG_UF_PROVA']==estado)].NU_NOTA_MT.median()"
      ],
      "execution_count": 21,
      "outputs": [
        {
          "output_type": "execute_result",
          "data": {
            "text/plain": [
              "546.45"
            ]
          },
          "metadata": {
            "tags": []
          },
          "execution_count": 21
        }
      ]
    },
    {
      "cell_type": "markdown",
      "metadata": {
        "id": "i9JRW3uHeFb2"
      },
      "source": [
        "Nascido no estado fazendo prova em outro lugar"
      ]
    },
    {
      "cell_type": "code",
      "metadata": {
        "id": "5JYYfYG_cgsU",
        "outputId": "6dbf2ba3-a4f3-483b-a29c-ea4ee48b0c25",
        "colab": {
          "base_uri": "https://localhost:8080/",
          "height": 34
        }
      },
      "source": [
        "dados[(dados['SG_UF_NASCIMENTO']==estado)& (dados['SG_UF_PROVA']!=estado)].NU_NOTA_MT.median()"
      ],
      "execution_count": 22,
      "outputs": [
        {
          "output_type": "execute_result",
          "data": {
            "text/plain": [
              "523.75"
            ]
          },
          "metadata": {
            "tags": []
          },
          "execution_count": 22
        }
      ]
    },
    {
      "cell_type": "markdown",
      "metadata": {
        "id": "YQ5mYBKTeNnw"
      },
      "source": [
        "Nascido em outro lugar fazendo prova no estado"
      ]
    },
    {
      "cell_type": "code",
      "metadata": {
        "id": "1rIO0eQGcly8",
        "outputId": "e1f73d61-f59e-4c3c-ad73-f879a9e72bed",
        "colab": {
          "base_uri": "https://localhost:8080/",
          "height": 34
        }
      },
      "source": [
        "dados[(dados['SG_UF_NASCIMENTO']!=estado)& (dados['SG_UF_PROVA']==estado)].NU_NOTA_MT.median()"
      ],
      "execution_count": 23,
      "outputs": [
        {
          "output_type": "execute_result",
          "data": {
            "text/plain": [
              "504.6"
            ]
          },
          "metadata": {
            "tags": []
          },
          "execution_count": 23
        }
      ]
    },
    {
      "cell_type": "code",
      "metadata": {
        "id": "p5ynWZjKfu_a",
        "outputId": "238ce395-fcdd-4323-b574-7a4ad027a982",
        "colab": {
          "base_uri": "https://localhost:8080/",
          "height": 34
        }
      },
      "source": [
        "dados[(dados['SG_UF_NASCIMENTO']==estado)& (dados['SG_UF_PROVA']==estado)].NU_NOTA_MT.mean()"
      ],
      "execution_count": 24,
      "outputs": [
        {
          "output_type": "execute_result",
          "data": {
            "text/plain": [
              "557.0587080822138"
            ]
          },
          "metadata": {
            "tags": []
          },
          "execution_count": 24
        }
      ]
    },
    {
      "cell_type": "markdown",
      "metadata": {
        "id": "cYO-0J9k_nEi"
      },
      "source": [
        "Comparação entre estados do desempenho de quem saiu do estado para fazer a prova"
      ]
    },
    {
      "cell_type": "code",
      "metadata": {
        "id": "dK30_W3Zf7fE",
        "outputId": "5549f6a3-a08a-46cf-a980-84c1c28c28a5",
        "colab": {
          "base_uri": "https://localhost:8080/",
          "height": 342
        }
      },
      "source": [
        "notas=['NU_NOTA_REDACAO','NU_NOTA_MT','NU_NOTA_LC','NU_NOTA_CN', 'NU_NOTA_CH']\n",
        "Mig_UF_grade=pd.Series()\n",
        "for estado in estados:\n",
        "  Mig_UF_grade[estado]=dados[(dados['SG_UF_NASCIMENTO']==estado)& (dados['SG_UF_PROVA']!=estado)][notas].median().sum()\n",
        "Mig_UF_grade=(Mig_UF_grade/Mig_UF_grade.max())*100\n",
        "plt.ylabel('Comparação de desempenho %')\n",
        "plt.title('Comparação entre estados do desempenho de quem saiu do estado para fazer a prova')\n",
        "Mig_UF_grade.sort_values().plot.bar()\n",
        "plt.ylim(bottom=80,top=100)\n",
        "plt.grid()"
      ],
      "execution_count": 31,
      "outputs": [
        {
          "output_type": "stream",
          "text": [
            "/usr/local/lib/python3.6/dist-packages/ipykernel_launcher.py:2: DeprecationWarning: The default dtype for empty Series will be 'object' instead of 'float64' in a future version. Specify a dtype explicitly to silence this warning.\n",
            "  \n"
          ],
          "name": "stderr"
        },
        {
          "output_type": "display_data",
          "data": {
            "image/png": "[encoded data removed]",
            "text/plain": [
              "<Figure size 432x288 with 1 Axes>"
            ]
          },
          "metadata": {
            "tags": [],
            "needs_background": "light"
          }
        }
      ]
    },
    {
      "cell_type": "markdown",
      "metadata": {
        "id": "FUvigUGg_sLw"
      },
      "source": [
        "Comparação entre estados do desempenho dos migrantes recebidos no estado"
      ]
    },
    {
      "cell_type": "code",
      "metadata": {
        "id": "CrGziY88Lugt",
        "outputId": "4ef7550b-9c84-4d85-e19b-bd63fc134e61",
        "colab": {
          "base_uri": "https://localhost:8080/",
          "height": 342
        }
      },
      "source": [
        "notas=['NU_NOTA_REDACAO','NU_NOTA_MT','NU_NOTA_LC','NU_NOTA_CN', 'NU_NOTA_CH']\n",
        "Rec_UF_grade=pd.Series()\n",
        "for estado in estados:\n",
        "  Rec_UF_grade[estado]=dados[(dados['SG_UF_NASCIMENTO']!=estado)& (dados['SG_UF_PROVA']==estado)][notas].median().sum()\n",
        "Rec_UF_grade=(Rec_UF_grade/Rec_UF_grade.max())*100\n",
        "plt.ylabel('Comparação de desempenho %')\n",
        "plt.title('Comparação entre estados do desempenho dos migrantes recebidos no estado')\n",
        "Rec_UF_grade.sort_values().plot.bar()\n",
        "plt.ylim(bottom=90,top=100)\n",
        "plt.grid()"
      ],
      "execution_count": 30,
      "outputs": [
        {
          "output_type": "stream",
          "text": [
            "/usr/local/lib/python3.6/dist-packages/ipykernel_launcher.py:2: DeprecationWarning: The default dtype for empty Series will be 'object' instead of 'float64' in a future version. Specify a dtype explicitly to silence this warning.\n",
            "  \n"
          ],
          "name": "stderr"
        },
        {
          "output_type": "display_data",
          "data": {
            "image/png": "[encoded data removed]",
            "text/plain": [
              "<Figure size 432x288 with 1 Axes>"
            ]
          },
          "metadata": {
            "tags": [],
            "needs_background": "light"
          }
        }
      ]
    },
    {
      "cell_type": "markdown",
      "metadata": {
        "id": "D5sV14T0_w-Q"
      },
      "source": [
        "Comparação entre estados do desempenho dos alunos naturais do estado fazendo prova nele"
      ]
    },
    {
      "cell_type": "code",
      "metadata": {
        "id": "nGUGXN9ANUUA",
        "outputId": "c2717e48-e974-4f8c-ae72-1eca3197ec99",
        "colab": {
          "base_uri": "https://localhost:8080/",
          "height": 342
        }
      },
      "source": [
        "notas=['NU_NOTA_REDACAO','NU_NOTA_MT','NU_NOTA_LC','NU_NOTA_CN', 'NU_NOTA_CH']\n",
        "Nat_UF_grade=pd.Series()\n",
        "for estado in estados:\n",
        "  Nat_UF_grade[estado]=dados[(dados['SG_UF_NASCIMENTO']==estado)& (dados['SG_UF_PROVA']==estado)][notas].median().sum()\n",
        "Nat_UF_grade=(Nat_UF_grade/Nat_UF_grade.max())*100\n",
        "plt.ylabel('Comparação de desempenho %')\n",
        "plt.title('Comparação entre estados do desempenho dos alunos naturais do estado fazendo prova nele')\n",
        "Nat_UF_grade=Nat_UF_grade.sort_values()\n",
        "Nat_UF_grade.sort_values().plot.bar()\n",
        "plt.ylim(bottom=85,top=100)\n",
        "plt.grid()"
      ],
      "execution_count": 34,
      "outputs": [
        {
          "output_type": "stream",
          "text": [
            "/usr/local/lib/python3.6/dist-packages/ipykernel_launcher.py:2: DeprecationWarning: The default dtype for empty Series will be 'object' instead of 'float64' in a future version. Specify a dtype explicitly to silence this warning.\n",
            "  \n"
          ],
          "name": "stderr"
        },
        {
          "output_type": "display_data",
          "data": {
            "image/png": "[encoded data removed]",
            "text/plain": [
              "<Figure size 432x288 with 1 Axes>"
            ]
          },
          "metadata": {
            "tags": [],
            "needs_background": "light"
          }
        }
      ]
    },
    {
      "cell_type": "code",
      "metadata": {
        "id": "tjoHg6O7OykL"
      },
      "source": [
        "df=[Nat_UF_grade, Mig_UF_grade]\n",
        "df=pd.DataFrame(df)\n",
        "df=df.T\n",
        "df.columns=['Natural no estado','Emigrante do estado']"
      ],
      "execution_count": 233,
      "outputs": []
    },
    {
      "cell_type": "markdown",
      "metadata": {
        "id": "PdqYjnMH_10_"
      },
      "source": [
        "Comparação de desempenho entre os estados entre emigrantes e não emigrantes\n",
        "> Compara as notas entre os estados - melhor estado fica com o padrão - 100% da nota"
      ]
    },
    {
      "cell_type": "code",
      "metadata": {
        "id": "4y5gwA0EN0gm",
        "outputId": "fed5362e-ad3e-4502-c302-7005a835daa1",
        "colab": {
          "base_uri": "https://localhost:8080/",
          "height": 305
        }
      },
      "source": [
        "df.plot(kind='bar')\n",
        "plt.title('Comparação de desempenho entre os estados entre emigrantes e não emigrantes')\n",
        "plt.ylabel('Desempenho %')\n",
        "plt.ylim(bottom=80)"
      ],
      "execution_count": 238,
      "outputs": [
        {
          "output_type": "execute_result",
          "data": {
            "text/plain": [
              "(80.0, 105.0)"
            ]
          },
          "metadata": {
            "tags": []
          },
          "execution_count": 238
        },
        {
          "output_type": "display_data",
          "data": {
            "image/png": "[encoded data removed]",
            "text/plain": [
              "<Figure size 432x288 with 1 Axes>"
            ]
          },
          "metadata": {
            "tags": [],
            "needs_background": "light"
          }
        }
      ]
    },
    {
      "cell_type": "markdown",
      "metadata": {
        "id": "7kknT89bAjDm"
      },
      "source": [
        "Comparação desempenho dos alunos que emigraram com os que não emigraram do estado\n",
        "> avalia quem teve maior desempenho\n",
        "\n",
        ">> quem ficou em geral tem desempenho pior, menos nos estados SP, ES e no DF\n",
        "\n",
        ">> quem saiu teve desempenho melhor do que quem ficou no seu estado. Isso poderia ser explicado levando em conta que quem sai do seu estado geralmente vai em busca de uma vida melhor, com mais oportunidades de estudo/ trabalho/ renda"
      ]
    },
    {
      "cell_type": "code",
      "metadata": {
        "id": "p3NKRHvqUlkm",
        "outputId": "ec0ed9f2-3404-41f6-a248-751faf12223e",
        "colab": {
          "base_uri": "https://localhost:8080/",
          "height": 426
        }
      },
      "source": [
        "notas=['NU_NOTA_REDACAO','NU_NOTA_MT','NU_NOTA_LC','NU_NOTA_CN', 'NU_NOTA_CH']\n",
        "Nat_UF_grade=pd.Series()\n",
        "Mig_UF_grade=pd.Series()\n",
        "Comp_UF_grade=pd.Series()\n",
        "for estado in estados:\n",
        "  Nat_UF_grade[estado]=dados[(dados['SG_UF_NASCIMENTO']==estado)& (dados['SG_UF_PROVA']==estado)][notas].median().sum()\n",
        "  Mig_UF_grade[estado]=dados[(dados['SG_UF_NASCIMENTO']==estado)& (dados['SG_UF_PROVA']!=estado)][notas].median().sum()\n",
        "  Comp_UF_grade[estado]=(Mig_UF_grade[estado]/Nat_UF_grade[estado])*100\n",
        "plt.ylabel('Comparação de desempenho %')\n",
        "plt.title('Comparação desempenho dos alunos que emigraram com os que não emigraram do estado')\n",
        "Comp_UF_grade=Comp_UF_grade.sort_values()\n",
        "Comp_UF_grade.sort_values().plot.bar()\n",
        "plt.ylim(bottom=90)"
      ],
      "execution_count": 242,
      "outputs": [
        {
          "output_type": "stream",
          "text": [
            "/usr/local/lib/python3.6/dist-packages/ipykernel_launcher.py:2: DeprecationWarning: The default dtype for empty Series will be 'object' instead of 'float64' in a future version. Specify a dtype explicitly to silence this warning.\n",
            "  \n",
            "/usr/local/lib/python3.6/dist-packages/ipykernel_launcher.py:3: DeprecationWarning: The default dtype for empty Series will be 'object' instead of 'float64' in a future version. Specify a dtype explicitly to silence this warning.\n",
            "  This is separate from the ipykernel package so we can avoid doing imports until\n",
            "/usr/local/lib/python3.6/dist-packages/ipykernel_launcher.py:4: DeprecationWarning: The default dtype for empty Series will be 'object' instead of 'float64' in a future version. Specify a dtype explicitly to silence this warning.\n",
            "  after removing the cwd from sys.path.\n"
          ],
          "name": "stderr"
        },
        {
          "output_type": "execute_result",
          "data": {
            "text/plain": [
              "(90.0, 114.93653003137143)"
            ]
          },
          "metadata": {
            "tags": []
          },
          "execution_count": 242
        },
        {
          "output_type": "display_data",
          "data": {
            "image/png": "[encoded data removed]",
            "text/plain": [
              "<Figure size 432x288 with 1 Axes>"
            ]
          },
          "metadata": {
            "tags": [],
            "needs_background": "light"
          }
        }
      ]
    },
    {
      "cell_type": "markdown",
      "metadata": {
        "id": "RJ1OWxaVRWpq"
      },
      "source": [
        "#proporção por idade"
      ]
    },
    {
      "cell_type": "markdown",
      "metadata": {
        "id": "NoPjVzbF7cfH"
      },
      "source": [
        "Distribuição das idades dos inscritos"
      ]
    },
    {
      "cell_type": "code",
      "metadata": {
        "id": "e_QfBtV0dMgR",
        "outputId": "2967fff0-2ec1-49ed-ee75-6dffb21c1ec8",
        "colab": {
          "base_uri": "https://localhost:8080/",
          "height": 244
        }
      },
      "source": [
        "plt.figure(figsize=(12, 3))\n",
        "((dados.NU_IDADE.value_counts()/len(dados))*100).plot.bar()\n",
        "plt.ylabel('Percentual (%)')\n",
        "plt.xlabel('idades')\n",
        "plt.title('Distribuição das idades dos inscritos')\n",
        "plt.grid()"
      ],
      "execution_count": 56,
      "outputs": [
        {
          "output_type": "display_data",
          "data": {
            "image/png": "[encoded data removed]",
            "text/plain": [
              "<Figure size 864x216 with 1 Axes>"
            ]
          },
          "metadata": {
            "tags": [],
            "needs_background": "light"
          }
        }
      ]
    },
    {
      "cell_type": "markdown",
      "metadata": {
        "id": "EVcEMgQP7yPm"
      },
      "source": [
        "Histograma das idades dos inscritos"
      ]
    },
    {
      "cell_type": "code",
      "metadata": {
        "id": "878iB89FedVf",
        "outputId": "1340cde6-f83a-4eca-fc97-2aaa103a898a",
        "colab": {
          "base_uri": "https://localhost:8080/",
          "height": 282
        }
      },
      "source": [
        "dados['NU_IDADE'].hist(bins=25)"
      ],
      "execution_count": 39,
      "outputs": [
        {
          "output_type": "execute_result",
          "data": {
            "text/plain": [
              "<matplotlib.axes._subplots.AxesSubplot at 0x7f17a97b54a8>"
            ]
          },
          "metadata": {
            "tags": []
          },
          "execution_count": 39
        },
        {
          "output_type": "display_data",
          "data": {
            "image/png": "[encoded data removed]",
            "text/plain": [
              "<Figure size 432x288 with 1 Axes>"
            ]
          },
          "metadata": {
            "tags": [],
            "needs_background": "light"
          }
        }
      ]
    },
    {
      "cell_type": "markdown",
      "metadata": {
        "id": "Gbf_BaboBCPE"
      },
      "source": [
        "Percentual dos treineiros comparados com os inscritos - 12%"
      ]
    },
    {
      "cell_type": "code",
      "metadata": {
        "id": "lSe4HrjPfQVK",
        "outputId": "4b67df4f-fcf5-406e-aa9b-d471fab20944",
        "colab": {
          "base_uri": "https://localhost:8080/",
          "height": 34
        }
      },
      "source": [
        "(len(dados.query('IN_TREINEIRO==1')['IN_TREINEIRO'])/len(dados))*100"
      ],
      "execution_count": 75,
      "outputs": [
        {
          "output_type": "execute_result",
          "data": {
            "text/plain": [
              "12.09059506986968"
            ]
          },
          "metadata": {
            "tags": []
          },
          "execution_count": 75
        }
      ]
    },
    {
      "cell_type": "markdown",
      "metadata": {
        "id": "2vbWqeqo9MO6"
      },
      "source": [
        "Distribuição das idades dos treineiros"
      ]
    },
    {
      "cell_type": "code",
      "metadata": {
        "id": "Fdeut8ucgn-T",
        "outputId": "b874e1ef-491a-4ac6-95e7-eec603bd3b81",
        "colab": {
          "base_uri": "https://localhost:8080/",
          "height": 261
        }
      },
      "source": [
        "plt.figure(figsize=(8, 3))\n",
        "((dados.query('IN_TREINEIRO==1')['NU_IDADE'].value_counts().sort_index()/len(dados.query('IN_TREINEIRO==1')))*100).plot.bar()\n",
        "plt.ylabel('Percentual (%)')\n",
        "plt.xlabel('idades')\n",
        "plt.title('Distribuição das idades dos treineiros')"
      ],
      "execution_count": 77,
      "outputs": [
        {
          "output_type": "execute_result",
          "data": {
            "text/plain": [
              "Text(0.5, 1.0, 'Distribuição das idades dos treineiros')"
            ]
          },
          "metadata": {
            "tags": []
          },
          "execution_count": 77
        },
        {
          "output_type": "display_data",
          "data": {
            "image/png": "[encoded data removed]",
            "text/plain": [
              "<Figure size 576x216 with 1 Axes>"
            ]
          },
          "metadata": {
            "tags": [],
            "needs_background": "light"
          }
        }
      ]
    },
    {
      "cell_type": "markdown",
      "metadata": {
        "id": "vfgN5Kin96e2"
      },
      "source": [
        "Comparação percentual entre estados dos treineiros "
      ]
    },
    {
      "cell_type": "code",
      "metadata": {
        "id": "aqaU9lr3hVnQ",
        "outputId": "92baee7a-ac29-4a75-fa96-db895fd6a04d",
        "colab": {
          "base_uri": "https://localhost:8080/",
          "height": 289
        }
      },
      "source": [
        "prop=dados.query('IN_TREINEIRO==1')['SG_UF_PROVA'].value_counts()\n",
        "((dados.query('IN_TREINEIRO==1')['SG_UF_PROVA'].value_counts()/len(dados.query('IN_TREINEIRO==1')))*100).plot.bar()"
      ],
      "execution_count": 69,
      "outputs": [
        {
          "output_type": "execute_result",
          "data": {
            "text/plain": [
              "<matplotlib.axes._subplots.AxesSubplot at 0x7f0bb1e682b0>"
            ]
          },
          "metadata": {
            "tags": []
          },
          "execution_count": 69
        },
        {
          "output_type": "display_data",
          "data": {
            "image/png": "[encoded data removed]",
            "text/plain": [
              "<Figure size 432x288 with 1 Axes>"
            ]
          },
          "metadata": {
            "tags": [],
            "needs_background": "light"
          }
        }
      ]
    },
    {
      "cell_type": "code",
      "metadata": {
        "id": "XXeqFGh9h1Q2"
      },
      "source": [
        "for k in pop:\n",
        "  prop[k]=prop[k]/pop[k]\n"
      ],
      "execution_count": 70,
      "outputs": []
    },
    {
      "cell_type": "markdown",
      "metadata": {
        "id": "NEIudvm3-sbr"
      },
      "source": [
        "Percetual de treineiros comparados com os inscritos do estado"
      ]
    },
    {
      "cell_type": "code",
      "metadata": {
        "id": "oDF1lCOu0mKI",
        "outputId": "96ce2593-9db5-4078-e9be-ea42039f507b",
        "colab": {
          "base_uri": "https://localhost:8080/",
          "height": 305
        }
      },
      "source": [
        "prop=(prop/prop.sum())*100\n",
        "prop.sort_values().plot.bar()\n",
        "plt.ylabel('Percentual (%)')\n",
        "plt.title('Percetual dos inscritos como treineiros no estado')"
      ],
      "execution_count": 74,
      "outputs": [
        {
          "output_type": "execute_result",
          "data": {
            "text/plain": [
              "Text(0.5, 1.0, 'Percetual dos inscritos como treineiros no estado')"
            ]
          },
          "metadata": {
            "tags": []
          },
          "execution_count": 74
        },
        {
          "output_type": "display_data",
          "data": {
            "image/png": "[encoded data removed]",
            "text/plain": [
              "<Figure size 432x288 with 1 Axes>"
            ]
          },
          "metadata": {
            "tags": [],
            "needs_background": "light"
          }
        }
      ]
    },
    {
      "cell_type": "markdown",
      "metadata": {
        "id": "dtXccG6xc_Z8"
      },
      "source": [
        "#desafio 2 - inscritos com 13 anos"
      ]
    },
    {
      "cell_type": "code",
      "metadata": {
        "id": "KK5OmMh7Os-R",
        "outputId": "03f5427f-54c7-4c1d-c32d-ab798f2f42f7",
        "colab": {
          "base_uri": "https://localhost:8080/",
          "height": 101
        }
      },
      "source": [
        "dados[dados['NU_IDADE']==13].SG_UF_NASCIMENTO"
      ],
      "execution_count": null,
      "outputs": [
        {
          "output_type": "execute_result",
          "data": {
            "text/plain": [
              "57359     SP\n",
              "95630     MT\n",
              "98197     AP\n",
              "116501    CE\n",
              "Name: SG_UF_NASCIMENTO, dtype: object"
            ]
          },
          "metadata": {
            "tags": []
          },
          "execution_count": 50
        }
      ]
    }
  ]
}